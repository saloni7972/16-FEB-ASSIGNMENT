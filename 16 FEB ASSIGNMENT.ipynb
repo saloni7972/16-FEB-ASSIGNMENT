{
 "cells": [
  {
   "cell_type": "markdown",
   "id": "b5c8558e-2e6d-424b-b4aa-85bb291c0829",
   "metadata": {},
   "source": [
    "16 FEB ASSIGNMENT"
   ]
  },
  {
   "cell_type": "markdown",
   "id": "439a6aea-061e-446a-966a-21e98731844e",
   "metadata": {},
   "source": [
    "Q1. What is a database? Differentiate between SQL and NoSQL databases."
   ]
  },
  {
   "cell_type": "markdown",
   "id": "50760339-4574-4d42-ab5a-4ab20859b03e",
   "metadata": {},
   "source": [
    "ANSWER== \n",
    "A database is an organized collection of structured information, or data, typically stored electronically in a computer system\n",
    "SQL databases are vertically scalable, while NoSQL databases are horizontally scalable. SQL databases are table-based, while NoSQL databases are document, key-value, graph, or wide-column stores. SQL databases are better for multi-row transactions, while NoSQL is better for unstructured data like documents or JSON."
   ]
  },
  {
   "cell_type": "markdown",
   "id": "8e145c0c-5b30-48b4-92ad-e2d25abf7c6d",
   "metadata": {},
   "source": [
    "Q2. What is DDL? Explain why CREATE, DROP, ALTER, and TRUNCATE are used with an example."
   ]
  },
  {
   "cell_type": "markdown",
   "id": "3d18e90d-454c-4697-be0d-9a630ad37590",
   "metadata": {},
   "source": [
    "ANSWER==Data definition language (DDL) describes the portion of SQL that creates, alters, and deletes database objects. \n",
    "ALTER==The ALTER TABLE command adds, deletes, or modifies columns in a table.\n",
    "The ALTER TABLE command also adds and deletes various constraints in a table.\n",
    "DROP==The DROP TABLE command deletes a table in the database.\n",
    "TRUNCATE==The TRUNCATE TABLE command deletes the data inside a table, but not the table itself.\n",
    "CREAT==A copy of an existing table can also be created using CREATE TABLE."
   ]
  },
  {
   "cell_type": "markdown",
   "id": "0916f093-c0d1-4398-8439-041c26a76868",
   "metadata": {},
   "source": [
    "Q3. What is DML? Explain INSERT, UPDATE, and DELETE with an example."
   ]
  },
  {
   "cell_type": "markdown",
   "id": "3fa8d8b0-88d1-4aaf-b2db-73dd3703e942",
   "metadata": {},
   "source": [
    "ANSWER==\n",
    "DML is an abbreviation for Data Manipulation Language. Data Manipulation Language or DML represents a collection of programming languages explicitly used to make changes in the database.\n",
    "SELECT − Retrieve data from the database.\n",
    "INSERT − Insert data into a table. \n",
    "UPDATE − Update existing data within a table.\n",
    "DELETE − Delete records from a database table."
   ]
  },
  {
   "cell_type": "markdown",
   "id": "a2e5dd96-632f-4bc2-a9d9-6529a8fb74d1",
   "metadata": {},
   "source": [
    "Q4. What is DQL? Explain SELECT with an example."
   ]
  },
  {
   "cell_type": "markdown",
   "id": "81c8472d-9a61-42d0-8a01-e291a53ec470",
   "metadata": {},
   "source": [
    "ANSWER==\n",
    "DQL or data query language is to perform the query on the data inside the schema or object \n",
    "DQL COMMAND- SELECT command\n",
    "The SELECT command is used to query or retrieve data from a table in the database. It is used to retrieve a subset of records from one or more tables."
   ]
  },
  {
   "cell_type": "markdown",
   "id": "125c752d-ac04-43f6-945f-73330e9fc82a",
   "metadata": {},
   "source": [
    "Q5. Explain Primary Key and Foreign Key."
   ]
  },
  {
   "cell_type": "markdown",
   "id": "56d45ab0-13b9-4e4d-bb34-6c36908db2ed",
   "metadata": {},
   "source": [
    "ANSWER==A primary key is a column or a set of columns in a table whose values uniquely identify a row in the table.\n",
    "A foreign key is a column or a set of columns in a table whose values correspond to the values of the primary key in another table. "
   ]
  },
  {
   "cell_type": "markdown",
   "id": "6aa20442-ae97-48cb-8d9f-67cad60fc129",
   "metadata": {},
   "source": [
    "Q6. Write a python code to connect MySQL to python. Explain the cursor() and execute() method."
   ]
  },
  {
   "cell_type": "markdown",
   "id": "333b1f0b-aad1-49e6-922e-54557cabfb6e",
   "metadata": {},
   "source": [
    "ANSWER==To create a connection between the MySQL database and Python, the connect() method of mysql. connector module is used.\n",
    "A cursor is a data access object that can be used to either iterate over the set of rows in a table or insert new rows into a table.\n",
    "Python's built-in exec() function allows you to execute arbitrary Python code from a string or compiled code input"
   ]
  },
  {
   "cell_type": "markdown",
   "id": "fbfa41c3-5595-43dc-8023-d6b5e3886b86",
   "metadata": {},
   "source": [
    "Q7. Give the order of execution of SQL clauses in an SQL query."
   ]
  },
  {
   "cell_type": "markdown",
   "id": "578c3cf0-4942-4a74-8265-34d318945141",
   "metadata": {},
   "source": [
    "ANSWER==SQL queries adhere to a specific order when evaluating clauses, similar to how mathematical operations adhere to PEMDAS or BIDMAS.\n",
    "From the eyes of the user, queries begin from the first clause and end at the last clause. However, queries aren’t actually read from top to bottom when carried out."
   ]
  }
 ],
 "metadata": {
  "kernelspec": {
   "display_name": "Python 3 (ipykernel)",
   "language": "python",
   "name": "python3"
  },
  "language_info": {
   "codemirror_mode": {
    "name": "ipython",
    "version": 3
   },
   "file_extension": ".py",
   "mimetype": "text/x-python",
   "name": "python",
   "nbconvert_exporter": "python",
   "pygments_lexer": "ipython3",
   "version": "3.10.8"
  }
 },
 "nbformat": 4,
 "nbformat_minor": 5
}
